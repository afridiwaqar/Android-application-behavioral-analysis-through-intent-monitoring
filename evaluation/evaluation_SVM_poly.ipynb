{
 "cells": [
  {
   "cell_type": "code",
   "execution_count": 1,
   "metadata": {
    "collapsed": false
   },
   "outputs": [],
   "source": [
    "import pandas as pd\n",
    "csv_file = pd.read_csv('final-result.csv', index_col=False)\n",
    "featurues = ['accessed_file','recvsaction_android.intent.action.UMS_DISCONNECTED','recvsaction_android.intent.action.ACTION_POWER_CONNECTED',\n",
    "             'recvsaction_android.intent.action.ACTION_SHUTDOWN','recvsaction_android.provider.Telephony.SMS_RECEIVED',\n",
    "             'recvsaction_android.intent.action.SIG_STR','recvsaction_com.android.vending.INSTALL_REFERRER',\n",
    "             'recvsaction_android.intent.action.NEW_OUTGOING_CALL','recvsaction_android.provider.Telephony.WAP_PUSH_RECEIVED',\n",
    "             'recvsaction_android.intent.action.BOOT_COMPLETED','recvsaction_android.intent.action.PHONE_STATE',\n",
    "             'recvsaction_android.intent.action.PACKAGE_REMOVED','recvsaction_android.intent.action.USER_PRESENT',\n",
    "             'data_leaks_count','tag_count','servicestart_found_com.android.mms.transaction.SmsReceiverService',\n",
    "             'servicestart_found_com.android.contacts.ViewNotificationService','servicestart_found_com.android.battery.BridgeProvider',\n",
    "             'servicestart_found_com.safetest.tractor.UpdateService','servicestart_found_com.android.providers.downloads.DownloadService',\n",
    "             'servicestart_found_com.android.contacts.calllog.CallLogNotificationsService','servicestart_found_com.safetest.five.SoundService',\n",
    "             'servicestart_found_com.geinimi.custom.GoogleKeyboard','tag_name_TAINT_LOCATION','tag_name_TAINT_CONTACTS','tag_name_TAINT_MIC',\n",
    "             'tag_name_TAINT_PHONE_NUMBER','tag_name_TAINT_LOCATION_GPS','tag_name_TAINT_LOCATION_NET','tag_name_TAINT_LOCATION_LAST',\n",
    "             'tag_name_TAINT_CAMERA','tag_name_TAINT_ACCELEROMETER','tag_name_TAINT_SMS','tag_name_TAINT_IMEI','tag_name_TAINT_IMSI',\n",
    "             'tag_name_TAINT_ICCID','tag_name_TAINT_DEVICE_SN','tag_name_TAINT_ACCOUNT','tag_name_TAINT_BROWSER','tag_name_TAINT_OTHERDB',\n",
    "             'tag_name_TAINT_FILECONTENT','tag_name_TAINT_PACKAGE','tag_name_TAINT_CALL_LOG','tag_name_TAINT_EMAIL','tag_name_TAINT_CALENDAR',\n",
    "             'tag_name_TAINT_SETTINGS','fdaccess_pipe','fdaccess_cmdline','fdaccess_shared_prefs','fdaccess_dat','fdaccess_sdcard','fdaccess_info',\n",
    "             'fdaccess_jar','fdaccess_db','fdaccess_txt','fdaccess_urandom','fdaccess_if_inet6','phonecalls','sendsms']\n",
    "X = csv_file[featurues]\n",
    "Y = csv_file.label"
   ]
  },
  {
   "cell_type": "code",
   "execution_count": 2,
   "metadata": {
    "collapsed": false
   },
   "outputs": [],
   "source": [
    "from sklearn.cross_validation import train_test_split\n",
    "x_train, x_test, y_train, y_test = train_test_split(X, Y, random_state=0)"
   ]
  },
  {
   "cell_type": "markdown",
   "metadata": {},
   "source": [
    "<h3>Classification Accuracy: Percentage of correct prediction</h3>"
   ]
  },
  {
   "cell_type": "code",
   "execution_count": 3,
   "metadata": {
    "collapsed": false
   },
   "outputs": [],
   "source": [
    "from sklearn.svm import SVC\n",
    "\n",
    "C = 1.0  # SVM regularization parameter\n",
    "svc = SVC(C=C, kernel='poly', probability=True).fit(x_train,y_train)\n",
    "y_predict = svc.predict(x_test)"
   ]
  },
  {
   "cell_type": "code",
   "execution_count": 4,
   "metadata": {
    "collapsed": false
   },
   "outputs": [
    {
     "name": "stdout",
     "output_type": "stream",
     "text": [
      "0.810030395137\n"
     ]
    }
   ],
   "source": [
    "from sklearn import metrics\n",
    "print metrics.accuracy_score(y_predict, y_test)"
   ]
  },
  {
   "cell_type": "markdown",
   "metadata": {},
   "source": [
    "### Null Accuracy: accuracy that could be achieved by always predicting the most frequent class"
   ]
  },
  {
   "cell_type": "code",
   "execution_count": 6,
   "metadata": {
    "collapsed": false
   },
   "outputs": [
    {
     "data": {
      "text/plain": [
       "0.4726443768996961"
      ]
     },
     "execution_count": 6,
     "metadata": {},
     "output_type": "execute_result"
    }
   ],
   "source": [
    "# calculate percentage of 1\n",
    "y_test.mean()"
   ]
  },
  {
   "cell_type": "code",
   "execution_count": 7,
   "metadata": {
    "collapsed": false
   },
   "outputs": [
    {
     "name": "stdout",
     "output_type": "stream",
     "text": [
      "0.5273556231\n"
     ]
    }
   ],
   "source": [
    "#calculate percentage of 0\n",
    "print 1-y_test.mean()"
   ]
  },
  {
   "cell_type": "code",
   "execution_count": 8,
   "metadata": {
    "collapsed": false
   },
   "outputs": [
    {
     "data": {
      "text/plain": [
       "0.5273556231003039"
      ]
     },
     "execution_count": 8,
     "metadata": {},
     "output_type": "execute_result"
    }
   ],
   "source": [
    "# Null Accuracy\n",
    "max(y_test.mean(),1-y_test.mean())"
   ]
  },
  {
   "cell_type": "markdown",
   "metadata": {},
   "source": [
    "### compare <strong>true</strong> and <strong>predict</strong> response values"
   ]
  },
  {
   "cell_type": "code",
   "execution_count": 9,
   "metadata": {
    "collapsed": false
   },
   "outputs": [
    {
     "name": "stdout",
     "output_type": "stream",
     "text": [
      "True :  92      1\n",
      "1655    0\n",
      "1376    0\n",
      "1936    0\n",
      "2221    0\n",
      "2311    0\n",
      "2094    0\n",
      "2576    0\n",
      "2595    0\n",
      "2398    0\n",
      "224     1\n",
      "1211    1\n",
      "2460    0\n",
      "53      1\n",
      "746     1\n",
      "276     1\n",
      "1012    1\n",
      "2255    0\n",
      "878     1\n",
      "2577    0\n",
      "1385    0\n",
      "2532    0\n",
      "2434    0\n",
      "306     1\n",
      "2420    0\n",
      "634     1\n",
      "2145    0\n",
      "192     1\n",
      "2194    0\n",
      "Name: label, dtype: int64\n",
      "Pred :  [1 0 0 0 0 0 0 0 0 0 0 1 0 0 1 1 1 0 1 0 0 0 0 1 0 1 0 0 0]\n"
     ]
    }
   ],
   "source": [
    "print 'True : ', y_test[0:29]\n",
    "print 'Pred : ', y_predict[0:29]"
   ]
  },
  {
   "cell_type": "markdown",
   "metadata": {},
   "source": [
    "### Confusion Matrix"
   ]
  },
  {
   "cell_type": "code",
   "execution_count": 10,
   "metadata": {
    "collapsed": false
   },
   "outputs": [
    {
     "name": "stdout",
     "output_type": "stream",
     "text": [
      "[[331  16]\n",
      " [109 202]]\n"
     ]
    }
   ],
   "source": [
    "confusion_matrics = metrics.confusion_matrix(y_test, y_predict)\n",
    "print confusion_matrics\n",
    "TP = confusion_matrics[1,1]\n",
    "TN = confusion_matrics[1,0]\n",
    "FP = confusion_matrics[0,1]\n",
    "FN = confusion_matrics[1,0]"
   ]
  },
  {
   "cell_type": "markdown",
   "metadata": {},
   "source": [
    "## Metrics computed from computed matrix <h4>Classification Accuracy: Overall, how often is classifier correct</h4>"
   ]
  },
  {
   "cell_type": "code",
   "execution_count": 11,
   "metadata": {
    "collapsed": false
   },
   "outputs": [
    {
     "name": "stdout",
     "output_type": "stream",
     "text": [
      "0.713302752294\n",
      "0.810030395137\n"
     ]
    }
   ],
   "source": [
    "print (TP+TN)/float(TP+TN+FP+FN)\n",
    "print metrics.accuracy_score(y_test, y_predict)"
   ]
  },
  {
   "cell_type": "markdown",
   "metadata": {},
   "source": [
    "<h4>Classification Error: Overall, how often is classifier incorrect?</h4>"
   ]
  },
  {
   "cell_type": "code",
   "execution_count": 12,
   "metadata": {
    "collapsed": false
   },
   "outputs": [
    {
     "name": "stdout",
     "output_type": "stream",
     "text": [
      "0.286697247706\n",
      "0.189969604863\n"
     ]
    }
   ],
   "source": [
    "print (FP+FN)/float(TP+TN+FP+FN)\n",
    "print 1- metrics.accuracy_score(y_test, y_predict)"
   ]
  },
  {
   "cell_type": "markdown",
   "metadata": {},
   "source": [
    "<h4>False Positive Rate</h4>"
   ]
  },
  {
   "cell_type": "code",
   "execution_count": 13,
   "metadata": {
    "collapsed": false
   },
   "outputs": [
    {
     "name": "stdout",
     "output_type": "stream",
     "text": [
      "0.128\n"
     ]
    }
   ],
   "source": [
    "print FP/float(TN +FP)"
   ]
  },
  {
   "cell_type": "markdown",
   "metadata": {},
   "source": [
    "<h4>True Positive Rate</h4>"
   ]
  },
  {
   "cell_type": "code",
   "execution_count": 14,
   "metadata": {
    "collapsed": false
   },
   "outputs": [
    {
     "name": "stdout",
     "output_type": "stream",
     "text": [
      "1.616\n"
     ]
    }
   ],
   "source": [
    "print TP/float(TN +FP)"
   ]
  },
  {
   "cell_type": "markdown",
   "metadata": {},
   "source": [
    "<h4>Precision Score</h4>"
   ]
  },
  {
   "cell_type": "code",
   "execution_count": 15,
   "metadata": {
    "collapsed": false
   },
   "outputs": [
    {
     "name": "stdout",
     "output_type": "stream",
     "text": [
      "0.926605504587\n",
      "0.926605504587\n"
     ]
    }
   ],
   "source": [
    "print TP/float(TP +FP)\n",
    "print metrics.precision_score(y_test, y_predict)"
   ]
  },
  {
   "cell_type": "markdown",
   "metadata": {},
   "source": [
    "# Adjusting the Classification Threshold"
   ]
  },
  {
   "cell_type": "code",
   "execution_count": 16,
   "metadata": {
    "collapsed": false
   },
   "outputs": [
    {
     "name": "stdout",
     "output_type": "stream",
     "text": [
      "[1 0 0 0 0 0 0 0 0 0 0 1 0 0 1 1 1 0 1 0]\n"
     ]
    }
   ],
   "source": [
    "print svc.predict(x_test)[0:20]"
   ]
  },
  {
   "cell_type": "code",
   "execution_count": 17,
   "metadata": {
    "collapsed": false
   },
   "outputs": [
    {
     "data": {
      "text/plain": [
       "array([ 0.96189371,  0.64930857,  0.12640893,  0.64930857,  0.06137505,\n",
       "        0.55190401,  0.64930857,  0.64930857,  0.06137505,  0.64930857,\n",
       "        0.68788573,  1.        ,  0.06137505,  0.55783881,  0.85215253,\n",
       "        0.822813  ,  0.84755719,  0.06137505,  0.99644741,  0.06137505])"
      ]
     },
     "execution_count": 17,
     "metadata": {},
     "output_type": "execute_result"
    }
   ],
   "source": [
    "# print the first 10 predicated probabilities\n",
    "svc.predict_proba(x_test)[0:20,1]"
   ]
  },
  {
   "cell_type": "code",
   "execution_count": 18,
   "metadata": {
    "collapsed": false
   },
   "outputs": [],
   "source": [
    "y_pred_proba = svc.predict_proba(x_test)[:, 1]"
   ]
  },
  {
   "cell_type": "code",
   "execution_count": 19,
   "metadata": {
    "collapsed": false
   },
   "outputs": [],
   "source": [
    "%matplotlib inline\n",
    "import matplotlib.pyplot as plt\n",
    "plt.rcParams['font.size']=12"
   ]
  },
  {
   "cell_type": "code",
   "execution_count": 20,
   "metadata": {
    "collapsed": false
   },
   "outputs": [
    {
     "data": {
      "text/plain": [
       "<matplotlib.text.Text at 0x1fa83828>"
      ]
     },
     "execution_count": 20,
     "metadata": {},
     "output_type": "execute_result"
    },
    {
     "data": {
      "image/png": "[encoded data removed]",
      "text/plain": [
       "<matplotlib.figure.Figure at 0x11a15fd0>"
      ]
     },
     "metadata": {},
     "output_type": "display_data"
    }
   ],
   "source": [
    "plt.hist(y_pred_proba, bins=8)\n",
    "plt.xlim(0,1)\n",
    "plt.title('Malware Prediction Probability')\n",
    "plt.xlabel('Predicted Probability of Label Result')\n",
    "plt.ylabel('Frequency')"
   ]
  },
  {
   "cell_type": "markdown",
   "metadata": {},
   "source": [
    "## Decrease the threshold value to increase sensitivity of the classifier"
   ]
  },
  {
   "cell_type": "code",
   "execution_count": 21,
   "metadata": {
    "collapsed": false
   },
   "outputs": [],
   "source": [
    "from sklearn.preprocessing import binarize\n",
    "y_pred_class = binarize(y_pred_proba, 0.4)\n",
    "# Set the threshold value to 0.4"
   ]
  },
  {
   "cell_type": "code",
   "execution_count": 22,
   "metadata": {
    "collapsed": false
   },
   "outputs": [
    {
     "data": {
      "text/plain": [
       "array([ 0.96189371,  0.64930857,  0.12640893,  0.64930857,  0.06137505,\n",
       "        0.55190401,  0.64930857,  0.64930857,  0.06137505,  0.64930857,\n",
       "        0.68788573,  1.        ,  0.06137505,  0.55783881,  0.85215253,\n",
       "        0.822813  ,  0.84755719,  0.06137505,  0.99644741,  0.06137505,\n",
       "        0.12640893,  0.06137505,  0.0659219 ,  0.82024063,  0.15781508,\n",
       "        0.99544199,  0.0659219 ,  0.4836374 ,  0.0659219 ,  0.24241293])"
      ]
     },
     "execution_count": 22,
     "metadata": {},
     "output_type": "execute_result"
    }
   ],
   "source": [
    "y_pred_proba[0:30]"
   ]
  },
  {
   "cell_type": "code",
   "execution_count": 23,
   "metadata": {
    "collapsed": false
   },
   "outputs": [
    {
     "name": "stdout",
     "output_type": "stream",
     "text": [
      "[[331  16]\n",
      " [109 202]]\n"
     ]
    }
   ],
   "source": [
    "y_pred_class\n",
    "print confusion_matrics"
   ]
  },
  {
   "cell_type": "code",
   "execution_count": 42,
   "metadata": {
    "collapsed": false
   },
   "outputs": [],
   "source": [
    "#print metrics.confusion_matrix(y_test, y_pred_class)"
   ]
  },
  {
   "cell_type": "markdown",
   "metadata": {},
   "source": [
    "# ROC Curve and AUC Curve"
   ]
  },
  {
   "cell_type": "code",
   "execution_count": 24,
   "metadata": {
    "collapsed": false
   },
   "outputs": [
    {
     "data": {
      "image/png": "[encoded data removed]",
      "text/plain": [
       "<matplotlib.figure.Figure at 0x11a15a20>"
      ]
     },
     "metadata": {},
     "output_type": "display_data"
    }
   ],
   "source": [
    "fpr, tpr, thresholds = metrics.roc_curve(y_test, y_pred_proba)\n",
    "plt.plot(fpr,tpr)\n",
    "plt.xlim(0.0,1.0)\n",
    "plt.ylim(0.0,1.0)\n",
    "plt.title('ROC curve for Maliciousness')\n",
    "plt.xlabel('False Positive Rate (1-Specificity)')\n",
    "plt.ylabel('True Positive Rate Sensitivity')\n",
    "plt.grid(True)"
   ]
  },
  {
   "cell_type": "markdown",
   "metadata": {},
   "source": [
    "# AUC"
   ]
  },
  {
   "cell_type": "code",
   "execution_count": 25,
   "metadata": {
    "collapsed": false
   },
   "outputs": [
    {
     "name": "stdout",
     "output_type": "stream",
     "text": [
      "0.914503738985\n"
     ]
    }
   ],
   "source": [
    "print metrics.roc_auc_score(y_test,y_pred_proba)"
   ]
  },
  {
   "cell_type": "code",
   "execution_count": 28,
   "metadata": {
    "collapsed": false
   },
   "outputs": [
    {
     "data": {
      "text/plain": [
       "array([1], dtype=int64)"
      ]
     },
     "execution_count": 28,
     "metadata": {},
     "output_type": "execute_result"
    }
   ],
   "source": [
    "test_case = [1,0,0,0,0,0,0,0,0,1,0,0,0,0,0,1,1,0,0,0,0,0,0,0,0,0,0,0,0,0,0,0,0,0,0,0,0,0,0,0,0,0,0,0,0,0,0,1,1,1,1,0,0,0,0,0,0,0,0]\n",
    "svc.predict(test_case)"
   ]
  },
  {
   "cell_type": "markdown",
   "metadata": {},
   "source": [
    "# F1 Score"
   ]
  },
  {
   "cell_type": "code",
   "execution_count": 29,
   "metadata": {
    "collapsed": false
   },
   "outputs": [
    {
     "data": {
      "text/plain": [
       "array([ 0.841169 ,  0.7637051])"
      ]
     },
     "execution_count": 29,
     "metadata": {},
     "output_type": "execute_result"
    }
   ],
   "source": [
    "from sklearn.metrics import f1_score\n",
    "f1_score(y_test, y_predict, average=None)"
   ]
  }
 ],
 "metadata": {
  "anaconda-cloud": {},
  "kernelspec": {
   "display_name": "Python [default]",
   "language": "python",
   "name": "python2"
  },
  "language_info": {
   "codemirror_mode": {
    "name": "ipython",
    "version": 2
   },
   "file_extension": ".py",
   "mimetype": "text/x-python",
   "name": "python",
   "nbconvert_exporter": "python",
   "pygments_lexer": "ipython2",
   "version": "2.7.12"
  }
 },
 "nbformat": 4,
 "nbformat_minor": 0
}
